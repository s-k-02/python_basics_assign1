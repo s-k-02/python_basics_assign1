{
 "cells": [
  {
   "cell_type": "code",
   "execution_count": null,
   "id": "1d58014d-7914-4b79-bfe6-26017d40858d",
   "metadata": {},
   "outputs": [
    {
     "name": "stdout",
     "output_type": "stream",
     "text": [
      "20 10\n"
     ]
    }
   ],
   "source": [
    "#swapping without temp variable\n",
    "a,b = 10,20 #a=10,b=20\n",
    "a,b = b,a\n",
    "print(a,b) #a=20,b=10"
   ]
  },
  {
   "cell_type": "code",
   "execution_count": 7,
   "id": "ba219674-ffad-4b56-91ed-6f1ed25022e6",
   "metadata": {},
   "outputs": [
    {
     "name": "stdin",
     "output_type": "stream",
     "text": [
      "Enter length of rectangle 25\n",
      "Enter width of rectangle 12\n"
     ]
    },
    {
     "name": "stdout",
     "output_type": "stream",
     "text": [
      "area of rectangle is: 300\n"
     ]
    }
   ],
   "source": [
    "#area of rectangle\n",
    "l = int(input('Enter length of rectangle'))\n",
    "w = int(input('Enter width of rectangle'))\n",
    "area = l*w\n",
    "print(\"area of rectangle is:\",area)"
   ]
  },
  {
   "cell_type": "code",
   "execution_count": 8,
   "id": "ba5b58c8-1e5b-4d95-a3df-c2f333a81cc7",
   "metadata": {},
   "outputs": [
    {
     "name": "stdin",
     "output_type": "stream",
     "text": [
      "Enter temperature in celcius 45\n"
     ]
    },
    {
     "name": "stdout",
     "output_type": "stream",
     "text": [
      "fehrenheit temperature is: 113.0\n"
     ]
    }
   ],
   "source": [
    "#convert temperature(Celcius to Fahrenheit)\n",
    "cel =float( input('Enter temperature in celcius'))\n",
    "fer = (cel*9/5)+32\n",
    "print('fehrenheit temperature is:',fer)"
   ]
  },
  {
   "cell_type": "code",
   "execution_count": 9,
   "id": "5289342d-8591-4b44-8d35-7fd335324862",
   "metadata": {},
   "outputs": [
    {
     "name": "stdin",
     "output_type": "stream",
     "text": [
      "Enter string pwskills\n"
     ]
    },
    {
     "name": "stdout",
     "output_type": "stream",
     "text": [
      "length of string is: 8\n"
     ]
    }
   ],
   "source": [
    "#length of string\n",
    "s1 = str(input('Enter string'))\n",
    "print('length of string is:',len(s1))"
   ]
  },
  {
   "cell_type": "code",
   "execution_count": 10,
   "id": "88846d25-c6e7-41c0-a3fe-fb4d5da57715",
   "metadata": {},
   "outputs": [
    {
     "name": "stdin",
     "output_type": "stream",
     "text": [
      "Enter string I love data science\n"
     ]
    },
    {
     "name": "stdout",
     "output_type": "stream",
     "text": [
      "number of vowels: 8\n"
     ]
    }
   ],
   "source": [
    "#number of vowels in string\n",
    "s1 = str(input('Enter string'))\n",
    "vowel = 0\n",
    "for char in s1:\n",
    "    if(char=='a' or char=='e' or char=='i' or char=='o' or char=='u' or char=='A' or char=='E' or char=='I' or char=='O' or char=='U'):\n",
    "        vowel +=1\n",
    "print('number of vowels:',vowel)"
   ]
  },
  {
   "cell_type": "code",
   "execution_count": 17,
   "id": "91731094-3427-48ed-94c6-55420e132d8f",
   "metadata": {},
   "outputs": [
    {
     "name": "stdin",
     "output_type": "stream",
     "text": [
      "Enter string I love data science\n"
     ]
    },
    {
     "name": "stdout",
     "output_type": "stream",
     "text": [
      "reverse string: ecneics atad evol I\n"
     ]
    }
   ],
   "source": [
    "#reverse a string using slicing\n",
    "s1 = str(input('Enter string'))\n",
    "print('reverse string:',s1[::-1])"
   ]
  },
  {
   "cell_type": "code",
   "execution_count": 20,
   "id": "7fb97f3e-6c08-4a21-a23f-e178a5381f76",
   "metadata": {},
   "outputs": [
    {
     "name": "stdin",
     "output_type": "stream",
     "text": [
      "Enter string nayan\n"
     ]
    },
    {
     "name": "stdout",
     "output_type": "stream",
     "text": [
      "strings are palindrome\n"
     ]
    }
   ],
   "source": [
    "#check if palindrome or not\n",
    "s1 = str(input('Enter string'))\n",
    "revs1 = s1[::-1];\n",
    "if(s1 == revs1):\n",
    "    print('strings are palindrome')\n",
    "else:\n",
    "    print('strings are not palindrome')"
   ]
  },
  {
   "cell_type": "code",
   "execution_count": 21,
   "id": "bb6ef6d2-02ef-4bdf-8e93-5118c5f1632c",
   "metadata": {},
   "outputs": [
    {
     "name": "stdin",
     "output_type": "stream",
     "text": [
      "Enter string a b c d e \n"
     ]
    },
    {
     "name": "stdout",
     "output_type": "stream",
     "text": [
      "abcde\n"
     ]
    }
   ],
   "source": [
    "#remove spaces from string\n",
    "s1 = str(input('Enter string'))\n",
    "print(s1.replace(\" \",\"\"))"
   ]
  }
 ],
 "metadata": {
  "kernelspec": {
   "display_name": "Python 3 (ipykernel)",
   "language": "python",
   "name": "python3"
  },
  "language_info": {
   "codemirror_mode": {
    "name": "ipython",
    "version": 3
   },
   "file_extension": ".py",
   "mimetype": "text/x-python",
   "name": "python",
   "nbconvert_exporter": "python",
   "pygments_lexer": "ipython3",
   "version": "3.10.8"
  }
 },
 "nbformat": 4,
 "nbformat_minor": 5
}
